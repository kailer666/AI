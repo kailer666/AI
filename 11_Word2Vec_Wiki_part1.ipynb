{
  "nbformat": 4,
  "nbformat_minor": 0,
  "metadata": {
    "colab": {
      "name": "11.Word2Vec_Wiki_part1.ipynb",
      "provenance": [],
      "collapsed_sections": []
    },
    "kernelspec": {
      "name": "python3",
      "display_name": "Python 3"
    },
    "accelerator": "GPU"
  },
  "cells": [
    {
      "cell_type": "markdown",
      "metadata": {
        "id": "aH_3RM5nLMVV",
        "colab_type": "text"
      },
      "source": [
        "# 11.Word2Vec練習，以維基百科為例\n",
        "自然語言處理NLP(Natural Language Processing) 是人工智慧最主要的應用之一，近年來在深度學習領域取得重大進展，其中Word2Vec模型扮演極重要的角色。\n",
        "<BR>\n",
        "Word2Vec是 2013 年由 Tomas Mikolov 等人所提出，透過大量資料的訓練，將深度學習訓練的權重向量，用來表達字詞的語意，讓語意相似的單字可以有較近的距離。 <br>\n",
        "本範例以2020/3/1所下載的中文維基百科part1為範例，用來建立Word2Vec語意模型並且預測相關離的字詞"
      ]
    },
    {
      "cell_type": "code",
      "metadata": {
        "id": "r8RgawwtLKYH",
        "colab_type": "code",
        "colab": {
          "base_uri": "https://localhost:8080/",
          "height": 768
        },
        "outputId": "a5704170-0455-4f21-9624-f6fc1554b8a3"
      },
      "source": [
        "!pip install opencc-python-reimplemented\n",
        "!wget https://dumps.wikimedia.org/zhwiki/20200301/zhwiki-20200301-pages-articles-multistream1.xml-p1p162886.bz2\n",
        "\n",
        "\n",
        "\n",
        "from gensim.corpora import WikiCorpus\n",
        "\n",
        "wiki_corpus = WikiCorpus('zhwiki-20200301-pages-articles-multistream1.xml-p1p162886.bz2', dictionary={})\n",
        "next(iter(wiki_corpus.get_texts()))[:10]\n",
        "\n",
        "text_num = 0\n",
        "\n",
        "with open('wiki_text.txt', 'w', encoding='utf-8') as f:\n",
        "    for text in wiki_corpus.get_texts():\n",
        "        f.write(' '.join(text)+'\\n')\n",
        "        text_num += 1\n",
        "        if text_num % 10000 == 0:\n",
        "            print('{} articles processed.'.format(text_num))\n",
        "\n",
        "    print('{} articles processed.'.format(text_num))\n",
        "\n",
        "import jieba\n",
        "from opencc import OpenCC\n",
        "\n",
        "\n",
        "# Initial\n",
        "cc = OpenCC('s2t')\n",
        "train_data = open('wiki_text.txt', 'r', encoding='utf-8').read()\n",
        "train_data = cc.convert(train_data)\n",
        "train_data = jieba.lcut(train_data)\n",
        "train_data = [word for word in train_data if word != '']\n",
        "train_data = ' '.join(train_data)\n",
        "open('seg.txt', 'w', encoding='utf-8').write(train_data)\n",
        "\n",
        "from gensim.models import word2vec\n",
        "\n",
        "\n",
        "# Settings\n",
        "seed = 666\n",
        "sg = 0\n",
        "window_size = 10\n",
        "vector_size = 100\n",
        "min_count = 1\n",
        "workers = 8\n",
        "epochs = 5\n",
        "batch_words = 10000\n",
        "\n",
        "train_data = word2vec.LineSentence('seg.txt')\n",
        "model = word2vec.Word2Vec(\n",
        "    train_data,\n",
        "    min_count=min_count,\n",
        "    size=vector_size,\n",
        "    workers=workers,\n",
        "    iter=epochs,\n",
        "    window=window_size,\n",
        "    sg=sg,\n",
        "    seed=seed,\n",
        "    batch_words=batch_words\n",
        ")\n",
        "\n",
        "model.save('word2vec.model')\n",
        "\n",
        "\n",
        "from gensim.models import word2vec\n",
        "\n",
        "string = '微生物'\n",
        "model = word2vec.Word2Vec.load('word2vec.model')\n",
        "print(string)\n",
        "\n",
        "for item in model.wv.most_similar(string):\n",
        "    print(item)\n",
        "\n"
      ],
      "execution_count": 1,
      "outputs": [
        {
          "output_type": "stream",
          "text": [
            "Collecting opencc-python-reimplemented\n",
            "\u001b[?25l  Downloading https://files.pythonhosted.org/packages/53/0c/c499c86a719c925a08586085a56f92f3235c03ee8b4db2e59c1e9aab3f55/opencc-python-reimplemented-0.1.5.tar.gz (482kB)\n",
            "\r\u001b[K     |▊                               | 10kB 24.8MB/s eta 0:00:01\r\u001b[K     |█▍                              | 20kB 3.1MB/s eta 0:00:01\r\u001b[K     |██                              | 30kB 4.5MB/s eta 0:00:01\r\u001b[K     |██▊                             | 40kB 2.9MB/s eta 0:00:01\r\u001b[K     |███▍                            | 51kB 3.6MB/s eta 0:00:01\r\u001b[K     |████                            | 61kB 4.3MB/s eta 0:00:01\r\u001b[K     |████▊                           | 71kB 5.0MB/s eta 0:00:01\r\u001b[K     |█████▍                          | 81kB 3.9MB/s eta 0:00:01\r\u001b[K     |██████                          | 92kB 4.3MB/s eta 0:00:01\r\u001b[K     |██████▉                         | 102kB 4.7MB/s eta 0:00:01\r\u001b[K     |███████▌                        | 112kB 4.7MB/s eta 0:00:01\r\u001b[K     |████████▏                       | 122kB 4.7MB/s eta 0:00:01\r\u001b[K     |████████▉                       | 133kB 4.7MB/s eta 0:00:01\r\u001b[K     |█████████▌                      | 143kB 4.7MB/s eta 0:00:01\r\u001b[K     |██████████▏                     | 153kB 4.7MB/s eta 0:00:01\r\u001b[K     |██████████▉                     | 163kB 4.7MB/s eta 0:00:01\r\u001b[K     |███████████▌                    | 174kB 4.7MB/s eta 0:00:01\r\u001b[K     |████████████▏                   | 184kB 4.7MB/s eta 0:00:01\r\u001b[K     |█████████████                   | 194kB 4.7MB/s eta 0:00:01\r\u001b[K     |█████████████▋                  | 204kB 4.7MB/s eta 0:00:01\r\u001b[K     |██████████████▎                 | 215kB 4.7MB/s eta 0:00:01\r\u001b[K     |███████████████                 | 225kB 4.7MB/s eta 0:00:01\r\u001b[K     |███████████████▋                | 235kB 4.7MB/s eta 0:00:01\r\u001b[K     |████████████████▎               | 245kB 4.7MB/s eta 0:00:01\r\u001b[K     |█████████████████               | 256kB 4.7MB/s eta 0:00:01\r\u001b[K     |█████████████████▋              | 266kB 4.7MB/s eta 0:00:01\r\u001b[K     |██████████████████▎             | 276kB 4.7MB/s eta 0:00:01\r\u001b[K     |███████████████████             | 286kB 4.7MB/s eta 0:00:01\r\u001b[K     |███████████████████▊            | 296kB 4.7MB/s eta 0:00:01\r\u001b[K     |████████████████████▍           | 307kB 4.7MB/s eta 0:00:01\r\u001b[K     |█████████████████████           | 317kB 4.7MB/s eta 0:00:01\r\u001b[K     |█████████████████████▊          | 327kB 4.7MB/s eta 0:00:01\r\u001b[K     |██████████████████████▍         | 337kB 4.7MB/s eta 0:00:01\r\u001b[K     |███████████████████████         | 348kB 4.7MB/s eta 0:00:01\r\u001b[K     |███████████████████████▊        | 358kB 4.7MB/s eta 0:00:01\r\u001b[K     |████████████████████████▍       | 368kB 4.7MB/s eta 0:00:01\r\u001b[K     |█████████████████████████       | 378kB 4.7MB/s eta 0:00:01\r\u001b[K     |█████████████████████████▉      | 389kB 4.7MB/s eta 0:00:01\r\u001b[K     |██████████████████████████▌     | 399kB 4.7MB/s eta 0:00:01\r\u001b[K     |███████████████████████████▏    | 409kB 4.7MB/s eta 0:00:01\r\u001b[K     |███████████████████████████▉    | 419kB 4.7MB/s eta 0:00:01\r\u001b[K     |████████████████████████████▌   | 430kB 4.7MB/s eta 0:00:01\r\u001b[K     |█████████████████████████████▏  | 440kB 4.7MB/s eta 0:00:01\r\u001b[K     |█████████████████████████████▉  | 450kB 4.7MB/s eta 0:00:01\r\u001b[K     |██████████████████████████████▌ | 460kB 4.7MB/s eta 0:00:01\r\u001b[K     |███████████████████████████████▏| 471kB 4.7MB/s eta 0:00:01\r\u001b[K     |████████████████████████████████| 481kB 4.7MB/s eta 0:00:01\r\u001b[K     |████████████████████████████████| 491kB 4.7MB/s \n",
            "\u001b[?25hBuilding wheels for collected packages: opencc-python-reimplemented\n",
            "  Building wheel for opencc-python-reimplemented (setup.py) ... \u001b[?25l\u001b[?25hdone\n",
            "  Created wheel for opencc-python-reimplemented: filename=opencc_python_reimplemented-0.1.5-py2.py3-none-any.whl size=485664 sha256=b954a028f78868dbb436a72da6a2ab9103912603ce905f294baee419fcb883c2\n",
            "  Stored in directory: /root/.cache/pip/wheels/36/a0/10/888b9ac7f10154caaa6a73270b1f085e0a7b241baa672bbe49\n",
            "Successfully built opencc-python-reimplemented\n",
            "Installing collected packages: opencc-python-reimplemented\n",
            "Successfully installed opencc-python-reimplemented-0.1.5\n",
            "--2020-04-21 00:46:23--  https://dumps.wikimedia.org/zhwiki/20200301/zhwiki-20200301-pages-articles-multistream1.xml-p1p162886.bz2\n",
            "Resolving dumps.wikimedia.org (dumps.wikimedia.org)... 208.80.154.7, 2620:0:861:1:208:80:154:7\n",
            "Connecting to dumps.wikimedia.org (dumps.wikimedia.org)|208.80.154.7|:443... connected.\n",
            "HTTP request sent, awaiting response... 200 OK\n",
            "Length: 172586252 (165M) [application/octet-stream]\n",
            "Saving to: ‘zhwiki-20200301-pages-articles-multistream1.xml-p1p162886.bz2’\n",
            "\n",
            "zhwiki-20200301-pag 100%[===================>] 164.59M  4.83MB/s    in 34s     \n",
            "\n",
            "2020-04-21 00:46:57 (4.90 MB/s) - ‘zhwiki-20200301-pages-articles-multistream1.xml-p1p162886.bz2’ saved [172586252/172586252]\n",
            "\n",
            "10000 articles processed.\n",
            "20000 articles processed.\n",
            "27590 articles processed.\n"
          ],
          "name": "stdout"
        },
        {
          "output_type": "stream",
          "text": [
            "Building prefix dict from the default dictionary ...\n",
            "Dumping model to file cache /tmp/jieba.cache\n",
            "Loading model cost 0.753 seconds.\n",
            "Prefix dict has been built successfully.\n",
            "/usr/local/lib/python3.6/dist-packages/smart_open/smart_open_lib.py:253: UserWarning: This function is deprecated, use smart_open.open instead. See the migration notes for details: https://github.com/RaRe-Technologies/smart_open/blob/master/README.rst#migrating-to-the-new-open-function\n",
            "  'See the migration notes for details: %s' % _MIGRATION_NOTES_URL\n"
          ],
          "name": "stderr"
        },
        {
          "output_type": "stream",
          "text": [
            "微生物\n",
            "('細菌', 0.8967812657356262)\n",
            "('菌', 0.8630295395851135)\n",
            "('真菌', 0.8563517332077026)\n",
            "('病理', 0.852911651134491)\n",
            "('致病', 0.8524677157402039)\n",
            "('代謝', 0.8514013886451721)\n",
            "('抗生素', 0.8477112054824829)\n",
            "('抗藥性', 0.8455770611763)\n",
            "('免疫', 0.8435078263282776)\n",
            "('激素', 0.8382256627082825)\n"
          ],
          "name": "stdout"
        },
        {
          "output_type": "stream",
          "text": [
            "/usr/local/lib/python3.6/dist-packages/gensim/matutils.py:737: FutureWarning: Conversion of the second argument of issubdtype from `int` to `np.signedinteger` is deprecated. In future, it will be treated as `np.int64 == np.dtype(int).type`.\n",
            "  if np.issubdtype(vec.dtype, np.int):\n"
          ],
          "name": "stderr"
        }
      ]
    }
  ]
}