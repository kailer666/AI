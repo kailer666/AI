{
  "nbformat": 4,
  "nbformat_minor": 0,
  "metadata": {
    "colab": {
      "name": "3.Keras_Tutorial_2.ipynb",
      "provenance": []
    },
    "kernelspec": {
      "name": "python3",
      "display_name": "Python 3"
    }
  },
  "cells": [
    {
      "cell_type": "markdown",
      "metadata": {
        "id": "QKCrFQ3KHCFf",
        "colab_type": "text"
      },
      "source": [
        "# Keras深度學習初體驗2\n",
        "利用keras套件，產生兩個64個神經元的深度學習模型進行訓練\n",
        "資料來源為隨機產生的1000筆訓練資料，以及100筆測試資料\n",
        "\n"
      ]
    },
    {
      "cell_type": "code",
      "metadata": {
        "id": "wRR_QxTBHAwZ",
        "colab_type": "code",
        "colab": {
          "base_uri": "https://localhost:8080/",
          "height": 748
        },
        "outputId": "dd92a902-5e35-42c5-c49c-3fbd2490e647"
      },
      "source": [
        "import keras\n",
        "from keras.models import Sequential\n",
        "from keras.layers import Dense, Dropout, Activation\n",
        "from keras.optimizers import SGD\n",
        "\n",
        "# Generate dummy data\n",
        "import numpy as np\n",
        "x_train = np.random.random((1000, 10))\n",
        "y_train = keras.utils.to_categorical(np.random.randint(10, size=(1000, 1)), num_classes=10)\n",
        "x_test = np.random.random((100, 10))\n",
        "y_test = keras.utils.to_categorical(np.random.randint(10, size=(100, 1)), num_classes=10)\n",
        "\n",
        "model = Sequential()\n",
        "model.add(Dense(64, activation='relu', input_dim=10))\n",
        "model.add(Dense(64, activation='relu'))\n",
        "model.add(Dense(10, activation='softmax'))\n",
        "sgd = SGD(lr=0.01, decay=1e-6, momentum=0.9, nesterov=True)\n",
        "model.compile(loss='categorical_crossentropy', optimizer=sgd, metrics=['accuracy'])\n",
        "\n",
        "model.fit(x_train, y_train, epochs=20, batch_size=128)\n",
        "score = model.evaluate(x_test, y_test, batch_size=128)\n",
        "print(score)"
      ],
      "execution_count": 1,
      "outputs": [
        {
          "output_type": "stream",
          "text": [
            "Using TensorFlow backend.\n"
          ],
          "name": "stderr"
        },
        {
          "output_type": "stream",
          "text": [
            "Epoch 1/20\n",
            "1000/1000 [==============================] - 0s 243us/step - loss: 2.3090 - accuracy: 0.0850\n",
            "Epoch 2/20\n",
            "1000/1000 [==============================] - 0s 15us/step - loss: 2.3056 - accuracy: 0.0860\n",
            "Epoch 3/20\n",
            "1000/1000 [==============================] - 0s 14us/step - loss: 2.3035 - accuracy: 0.0870\n",
            "Epoch 4/20\n",
            "1000/1000 [==============================] - 0s 14us/step - loss: 2.3010 - accuracy: 0.1000\n",
            "Epoch 5/20\n",
            "1000/1000 [==============================] - 0s 14us/step - loss: 2.2995 - accuracy: 0.1120\n",
            "Epoch 6/20\n",
            "1000/1000 [==============================] - 0s 13us/step - loss: 2.2979 - accuracy: 0.1160\n",
            "Epoch 7/20\n",
            "1000/1000 [==============================] - 0s 13us/step - loss: 2.2969 - accuracy: 0.1170\n",
            "Epoch 8/20\n",
            "1000/1000 [==============================] - 0s 13us/step - loss: 2.2960 - accuracy: 0.1280\n",
            "Epoch 9/20\n",
            "1000/1000 [==============================] - 0s 15us/step - loss: 2.2948 - accuracy: 0.1270\n",
            "Epoch 10/20\n",
            "1000/1000 [==============================] - 0s 14us/step - loss: 2.2940 - accuracy: 0.1250\n",
            "Epoch 11/20\n",
            "1000/1000 [==============================] - 0s 13us/step - loss: 2.2932 - accuracy: 0.1210\n",
            "Epoch 12/20\n",
            "1000/1000 [==============================] - 0s 13us/step - loss: 2.2923 - accuracy: 0.1230\n",
            "Epoch 13/20\n",
            "1000/1000 [==============================] - 0s 13us/step - loss: 2.2915 - accuracy: 0.1270\n",
            "Epoch 14/20\n",
            "1000/1000 [==============================] - 0s 14us/step - loss: 2.2909 - accuracy: 0.1240\n",
            "Epoch 15/20\n",
            "1000/1000 [==============================] - 0s 13us/step - loss: 2.2900 - accuracy: 0.1280\n",
            "Epoch 16/20\n",
            "1000/1000 [==============================] - 0s 14us/step - loss: 2.2893 - accuracy: 0.1240\n",
            "Epoch 17/20\n",
            "1000/1000 [==============================] - 0s 16us/step - loss: 2.2888 - accuracy: 0.1210\n",
            "Epoch 18/20\n",
            "1000/1000 [==============================] - 0s 14us/step - loss: 2.2880 - accuracy: 0.1280\n",
            "Epoch 19/20\n",
            "1000/1000 [==============================] - 0s 13us/step - loss: 2.2877 - accuracy: 0.1280\n",
            "Epoch 20/20\n",
            "1000/1000 [==============================] - 0s 13us/step - loss: 2.2869 - accuracy: 0.1290\n",
            "100/100 [==============================] - 0s 201us/step\n",
            "[2.306856870651245, 0.09000000357627869]\n"
          ],
          "name": "stdout"
        }
      ]
    }
  ]
}