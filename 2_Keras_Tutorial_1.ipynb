{
  "nbformat": 4,
  "nbformat_minor": 0,
  "metadata": {
    "colab": {
      "name": "2.Keras_Tutorial_1.ipynb",
      "provenance": []
    },
    "kernelspec": {
      "name": "python3",
      "display_name": "Python 3"
    }
  },
  "cells": [
    {
      "cell_type": "markdown",
      "metadata": {
        "id": "iWI0tTBsGUK-",
        "colab_type": "text"
      },
      "source": [
        "# Keras深度學習初體驗1\n",
        "利用keras套件，產生一個32個神經元的深度學習模型進行訓練\n"
      ]
    },
    {
      "cell_type": "code",
      "metadata": {
        "id": "tCggV4LJGPHI",
        "colab_type": "code",
        "colab": {
          "base_uri": "https://localhost:8080/",
          "height": 493
        },
        "outputId": "7b9b75af-042a-498b-8980-81dc1cf2c51c"
      },
      "source": [
        "import keras\n",
        "from keras.models import Sequential\n",
        "from keras.layers import Dense\n",
        "\n",
        "import numpy as np\n",
        "data = np.random.random((1000, 10)) #隨機產生1000筆資料，每筆資料1包含十個float數字\n",
        "labels = np.random.randint(2, size=(1000, 1)) #隨機產生1000筆資料，每筆資料上限為2(意思就是0 或 1)\n",
        "print(np.shape(data))\n",
        "print(data[0])\n",
        "print(np.shape(labels))\n",
        "print(labels[0])\n",
        "\n",
        "model = Sequential()\n",
        "model.add(Dense(32, activation='relu', input_dim=10))\n",
        "model.add(Dense(1, activation='sigmoid'))\n",
        "model.compile(optimizer='rmsprop', loss='binary_crossentropy', metrics=['accuracy'])\n",
        "\n",
        "model.fit(data, labels, epochs=10, batch_size=32)\n",
        "\n",
        "score=model.evaluate(data, labels)\n",
        "print(score[1])"
      ],
      "execution_count": 1,
      "outputs": [
        {
          "output_type": "stream",
          "text": [
            "Using TensorFlow backend.\n"
          ],
          "name": "stderr"
        },
        {
          "output_type": "stream",
          "text": [
            "(1000, 10)\n",
            "[0.44717334 0.67402052 0.08709964 0.88734328 0.03438247 0.30702372\n",
            " 0.39893876 0.44303247 0.22598044 0.4929521 ]\n",
            "(1000, 1)\n",
            "[1]\n",
            "Epoch 1/10\n",
            "1000/1000 [==============================] - 0s 283us/step - loss: 0.7011 - accuracy: 0.4800\n",
            "Epoch 2/10\n",
            "1000/1000 [==============================] - 0s 36us/step - loss: 0.6965 - accuracy: 0.4920\n",
            "Epoch 3/10\n",
            "1000/1000 [==============================] - 0s 33us/step - loss: 0.6964 - accuracy: 0.5040\n",
            "Epoch 4/10\n",
            "1000/1000 [==============================] - 0s 41us/step - loss: 0.6951 - accuracy: 0.5070\n",
            "Epoch 5/10\n",
            "1000/1000 [==============================] - 0s 36us/step - loss: 0.6943 - accuracy: 0.5200\n",
            "Epoch 6/10\n",
            "1000/1000 [==============================] - 0s 36us/step - loss: 0.6935 - accuracy: 0.5090\n",
            "Epoch 7/10\n",
            "1000/1000 [==============================] - 0s 43us/step - loss: 0.6930 - accuracy: 0.5230\n",
            "Epoch 8/10\n",
            "1000/1000 [==============================] - 0s 38us/step - loss: 0.6922 - accuracy: 0.5240\n",
            "Epoch 9/10\n",
            "1000/1000 [==============================] - 0s 38us/step - loss: 0.6917 - accuracy: 0.5250\n",
            "Epoch 10/10\n",
            "1000/1000 [==============================] - 0s 38us/step - loss: 0.6911 - accuracy: 0.5350\n",
            "1000/1000 [==============================] - 0s 36us/step\n",
            "0.5400000214576721\n"
          ],
          "name": "stdout"
        }
      ]
    }
  ]
}