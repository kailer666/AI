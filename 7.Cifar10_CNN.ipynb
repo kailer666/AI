{
  "nbformat": 4,
  "nbformat_minor": 0,
  "metadata": {
    "colab": {
      "name": "7.Cifar10_CNN.ipynb",
      "provenance": []
    },
    "kernelspec": {
      "name": "python3",
      "display_name": "Python 3"
    },
    "accelerator": "GPU"
  },
  "cells": [
    {
      "cell_type": "code",
      "metadata": {
        "id": "isTwMmlftjre",
        "colab_type": "code",
        "colab": {
          "base_uri": "https://localhost:8080/",
          "height": 1000
        },
        "outputId": "fce69bca-9905-4dd1-d670-cbd6a9b8fa3c"
      },
      "source": [
        "from keras.datasets import cifar10\n",
        "\n",
        "(x_train, y_train_), (x_test, y_test_) = cifar10.load_data()\n",
        "\n",
        "x_train = x_train.astype('float32') / 255\n",
        "x_test = x_test.astype('float32') / 255\n",
        "\n",
        "from keras.utils import to_categorical\n",
        "y_train = to_categorical(y_train_)\n",
        "y_test = to_categorical(y_test_)\n",
        "\n",
        "\"\"\"## Model Definition\"\"\"\n",
        "\n",
        "from keras.models import Sequential\n",
        "model = Sequential()\n",
        "\n",
        "from keras.layers import Conv2D, MaxPool2D, Flatten, Dense\n",
        "\n",
        "model.add(Conv2D(filters=32, \n",
        "                kernel_size=(3, 3),\n",
        "                activation='relu',\n",
        "                input_shape=(32, 32, 3)))\n",
        "\n",
        "model.add(MaxPool2D())\n",
        "\n",
        "model.add(Conv2D(filters=64,\n",
        "                kernel_size=(3, 3),\n",
        "                activation='relu'))\n",
        "model.add(MaxPool2D())\n",
        "\n",
        "model.add(Flatten())\n",
        "model.add(Dense(10, activation='softmax'))\n",
        "\n",
        "model.compile(optimizer='adam',\n",
        "             loss='categorical_crossentropy',\n",
        "             metrics=['accuracy'])\n",
        "\n",
        "print(model.summary())\n",
        "\n",
        "\"\"\"## Fitting\"\"\"\n",
        "\n",
        "history = model.fit(x_train, y_train, batch_size=50, epochs=15, verbose=1, validation_data=(x_test, y_test))\n",
        "\n",
        "import matplotlib.pyplot as plt\n",
        "\n",
        "history_dict = history.history\n",
        "loss_values = history_dict['loss']\n",
        "val_loss_values = history_dict['val_loss']\n",
        "\n",
        "epochs = range(1, len(history_dict['accuracy']) + 1)\n",
        "\n",
        "plt.plot(epochs, loss_values, 'bo', label='Training loss')\n",
        "plt.plot(epochs, val_loss_values, 'b', label='Validation loss')\n",
        "plt.title('Training and validation loss')\n",
        "plt.xlabel('Epochs')\n",
        "plt.ylabel('Loss')\n",
        "plt.legend()\n",
        "\n",
        "plt.show()"
      ],
      "execution_count": 1,
      "outputs": [
        {
          "output_type": "stream",
          "text": [
            "Using TensorFlow backend.\n"
          ],
          "name": "stderr"
        },
        {
          "output_type": "stream",
          "text": [
            "Downloading data from https://www.cs.toronto.edu/~kriz/cifar-10-python.tar.gz\n",
            "170500096/170498071 [==============================] - 4s 0us/step\n",
            "Model: \"sequential_1\"\n",
            "_________________________________________________________________\n",
            "Layer (type)                 Output Shape              Param #   \n",
            "=================================================================\n",
            "conv2d_1 (Conv2D)            (None, 30, 30, 32)        896       \n",
            "_________________________________________________________________\n",
            "max_pooling2d_1 (MaxPooling2 (None, 15, 15, 32)        0         \n",
            "_________________________________________________________________\n",
            "conv2d_2 (Conv2D)            (None, 13, 13, 64)        18496     \n",
            "_________________________________________________________________\n",
            "max_pooling2d_2 (MaxPooling2 (None, 6, 6, 64)          0         \n",
            "_________________________________________________________________\n",
            "flatten_1 (Flatten)          (None, 2304)              0         \n",
            "_________________________________________________________________\n",
            "dense_1 (Dense)              (None, 10)                23050     \n",
            "=================================================================\n",
            "Total params: 42,442\n",
            "Trainable params: 42,442\n",
            "Non-trainable params: 0\n",
            "_________________________________________________________________\n",
            "None\n",
            "Train on 50000 samples, validate on 10000 samples\n",
            "Epoch 1/15\n",
            "50000/50000 [==============================] - 11s 218us/step - loss: 1.5399 - accuracy: 0.4491 - val_loss: 1.3182 - val_accuracy: 0.5396\n",
            "Epoch 2/15\n",
            "50000/50000 [==============================] - 5s 96us/step - loss: 1.2000 - accuracy: 0.5822 - val_loss: 1.1136 - val_accuracy: 0.6135\n",
            "Epoch 3/15\n",
            "50000/50000 [==============================] - 5s 95us/step - loss: 1.0644 - accuracy: 0.6320 - val_loss: 1.0575 - val_accuracy: 0.6386\n",
            "Epoch 4/15\n",
            "50000/50000 [==============================] - 5s 94us/step - loss: 0.9936 - accuracy: 0.6571 - val_loss: 1.0019 - val_accuracy: 0.6585\n",
            "Epoch 5/15\n",
            "50000/50000 [==============================] - 5s 94us/step - loss: 0.9347 - accuracy: 0.6782 - val_loss: 0.9627 - val_accuracy: 0.6672\n",
            "Epoch 6/15\n",
            "50000/50000 [==============================] - 5s 94us/step - loss: 0.8917 - accuracy: 0.6930 - val_loss: 0.9507 - val_accuracy: 0.6736\n",
            "Epoch 7/15\n",
            "50000/50000 [==============================] - 5s 94us/step - loss: 0.8529 - accuracy: 0.7095 - val_loss: 0.9283 - val_accuracy: 0.6850\n",
            "Epoch 8/15\n",
            "50000/50000 [==============================] - 5s 94us/step - loss: 0.8196 - accuracy: 0.7179 - val_loss: 0.9556 - val_accuracy: 0.6838\n",
            "Epoch 9/15\n",
            "50000/50000 [==============================] - 5s 97us/step - loss: 0.7888 - accuracy: 0.7290 - val_loss: 0.9104 - val_accuracy: 0.6968\n",
            "Epoch 10/15\n",
            "50000/50000 [==============================] - 5s 93us/step - loss: 0.7680 - accuracy: 0.7368 - val_loss: 0.9151 - val_accuracy: 0.6927\n",
            "Epoch 11/15\n",
            "50000/50000 [==============================] - 5s 95us/step - loss: 0.7409 - accuracy: 0.7453 - val_loss: 0.9156 - val_accuracy: 0.6971\n",
            "Epoch 12/15\n",
            "50000/50000 [==============================] - 5s 94us/step - loss: 0.7207 - accuracy: 0.7505 - val_loss: 0.9379 - val_accuracy: 0.6876\n",
            "Epoch 13/15\n",
            "50000/50000 [==============================] - 5s 93us/step - loss: 0.7005 - accuracy: 0.7585 - val_loss: 0.8848 - val_accuracy: 0.7061\n",
            "Epoch 14/15\n",
            "50000/50000 [==============================] - 5s 94us/step - loss: 0.6826 - accuracy: 0.7649 - val_loss: 0.9323 - val_accuracy: 0.6905\n",
            "Epoch 15/15\n",
            "50000/50000 [==============================] - 5s 97us/step - loss: 0.6687 - accuracy: 0.7688 - val_loss: 0.9165 - val_accuracy: 0.7026\n"
          ],
          "name": "stdout"
        },
        {
          "output_type": "display_data",
          "data": {
            "image/png": "[encoded data removed]",
            "text/plain": [
              "<Figure size 432x288 with 1 Axes>"
            ]
          },
          "metadata": {
            "tags": [],
            "needs_background": "light"
          }
        }
      ]
    }
  ]
}