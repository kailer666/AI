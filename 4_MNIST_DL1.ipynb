{
  "nbformat": 4,
  "nbformat_minor": 0,
  "metadata": {
    "colab": {
      "name": "4.MNIST_DL1.ipynb",
      "provenance": []
    },
    "kernelspec": {
      "name": "python3",
      "display_name": "Python 3"
    }
  },
  "cells": [
    {
      "cell_type": "markdown",
      "metadata": {
        "id": "9WuAjR3YH3az",
        "colab_type": "text"
      },
      "source": [
        "# MNIST資料集深度學習訓練1\n",
        "MNIST為手寫辨識資料集，含有60000筆手寫數字訓練資料，以及10000筆測試資料\n",
        "本範例利用傳統的深度學習模型進行訓練"
      ]
    },
    {
      "cell_type": "code",
      "metadata": {
        "id": "dckNvtmpH2TE",
        "colab_type": "code",
        "colab": {
          "base_uri": "https://localhost:8080/",
          "height": 272
        },
        "outputId": "8770709b-3c5e-435f-89e9-b25234c0d3a9"
      },
      "source": [
        "import keras\n",
        "from keras.models import Sequential\n",
        "from keras.layers import Dense, Dropout, Flatten\n",
        "import tensorflow as tf\n",
        "\n",
        "model = Sequential()\n",
        "model.add(Flatten())\n",
        "model.add(Dense(512, activation='relu'))\n",
        "model.add(Dropout(0.2))\n",
        "model.add(Dense(10, activation='softmax'))\n",
        "model.compile(optimizer='adam', loss='sparse_categorical_crossentropy', metrics=['accuracy'])\n",
        "\n",
        "\n",
        "mnist = tf.keras.datasets.mnist\n",
        "(x_train, y_train),(x_test, y_test) = mnist.load_data()\n",
        "x_train, x_test = x_train / 255.0, x_test / 255.0\n",
        "\n",
        "model.fit(x_train, y_train, epochs=5)\n",
        "model.evaluate(x_test, y_test)\n"
      ],
      "execution_count": 1,
      "outputs": [
        {
          "output_type": "stream",
          "text": [
            "Using TensorFlow backend.\n"
          ],
          "name": "stderr"
        },
        {
          "output_type": "stream",
          "text": [
            "Downloading data from https://storage.googleapis.com/tensorflow/tf-keras-datasets/mnist.npz\n",
            "11493376/11490434 [==============================] - 0s 0us/step\n",
            "Epoch 1/5\n",
            "60000/60000 [==============================] - 13s 209us/step - loss: 0.2198 - accuracy: 0.9357\n",
            "Epoch 2/5\n",
            "60000/60000 [==============================] - 13s 211us/step - loss: 0.0959 - accuracy: 0.9712\n",
            "Epoch 3/5\n",
            "60000/60000 [==============================] - 12s 206us/step - loss: 0.0702 - accuracy: 0.9778\n",
            "Epoch 4/5\n",
            "60000/60000 [==============================] - 13s 209us/step - loss: 0.0527 - accuracy: 0.9834\n",
            "Epoch 5/5\n",
            "60000/60000 [==============================] - 13s 210us/step - loss: 0.0431 - accuracy: 0.9858\n",
            "10000/10000 [==============================] - 1s 50us/step\n"
          ],
          "name": "stdout"
        },
        {
          "output_type": "execute_result",
          "data": {
            "text/plain": [
              "[0.06223069375255145, 0.9821000099182129]"
            ]
          },
          "metadata": {
            "tags": []
          },
          "execution_count": 1
        }
      ]
    }
  ]
}